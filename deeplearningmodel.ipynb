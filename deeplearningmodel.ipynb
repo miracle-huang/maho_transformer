{
 "cells": [
  {
   "cell_type": "code",
   "execution_count": 7,
   "metadata": {
    "executionInfo": {
     "elapsed": 637,
     "status": "ok",
     "timestamp": 1726025533088,
     "user": {
      "displayName": "佐藤茉帆",
      "userId": "02533179973160754332"
     },
     "user_tz": -540
    },
    "id": "VYG6UKJi0Cqd"
   },
   "outputs": [],
   "source": [
    "import pickle\n",
    "\n",
    "#google colabのとき↓\n",
    "#/content/drive/MyDrive/dataset/\n",
    "#研究室PCのとき↓\n",
    "#/Users/Ma-Lab-PC3/SatoMaho/\n",
    "\n",
    "def read_pickle(file_name):\n",
    "    with open(\"/Users/Ma-Lab-PC3/SatoMaho/\" + file_name + \".pickle\", \"rb\") as f:\n",
    "        dic = pickle.load(f)\n",
    "    return dic[\"x\"], dic[\"y\"]"
   ]
  },
  {
   "cell_type": "code",
   "execution_count": 8,
   "metadata": {
    "executionInfo": {
     "elapsed": 13455,
     "status": "ok",
     "timestamp": 1726025550204,
     "user": {
      "displayName": "佐藤茉帆",
      "userId": "02533179973160754332"
     },
     "user_tz": -540
    },
    "id": "WF6VKVKu0Cqe"
   },
   "outputs": [],
   "source": [
    "import numpy as np\n",
    "import torch\n",
    "import torch.nn as nn\n",
    "import torch.optim as optim\n",
    "#from sklearn.model_selection import train_test_split\n",
    "from torchvision import transforms"
   ]
  },
  {
   "cell_type": "code",
   "execution_count": 9,
   "metadata": {},
   "outputs": [],
   "source": [
    "import sys \n",
    "sys.path.append('c:/users/admin/appdata/roaming/python/python39/site-packages') \n",
    "import torch"
   ]
  },
  {
   "cell_type": "markdown",
   "metadata": {},
   "source": [
    "## 位置符号化"
   ]
  },
  {
   "cell_type": "code",
   "execution_count": 10,
   "metadata": {},
   "outputs": [],
   "source": [
    "class PositionalEncoding(nn.Module):\n",
    "    def __init__(self, d_model, l):\n",
    "        super(PositionalEncoding, self).__init__()\n",
    "        self.d_model = d_model\n",
    "        pe = torch.zeros(l, d_model)\n",
    "        device = torch.device(\"cuda\") if torch.cuda.is_available() else torch.device(\"cpu\")\n",
    "        pe = pe.to(device)\n",
    "        for pos in range(l):\n",
    "            for i in range(0, d_model, 2):\n",
    "                pe[pos, i] = np.sin(pos / (10000 ** ((2 * i) / d_model)))\n",
    "                pe[pos, i + 1] = np.cos(pos / 10000 ** ((2 * (i + 1) / d_model)))\n",
    "        \n",
    "        self.pe = pe.unsqueeze(0)\n",
    "        self.pe.requires_grad = False\n",
    "\n",
    "    def forward(self, x):\n",
    "        ret = np.sqrt(self.d_model) * x + self.pe\n",
    "        return ret"
   ]
  },
  {
   "cell_type": "markdown",
   "metadata": {},
   "source": [
    "## Transformerモデル"
   ]
  },
  {
   "cell_type": "code",
   "execution_count": 217,
   "metadata": {},
   "outputs": [],
   "source": [
    "class Transformer(nn.Module):\n",
    "    def __init__(self):\n",
    "        super(Transformer, self).__init__()\n",
    "        self.relu = nn.ReLU()\n",
    "        self.conv1 = nn.Conv1d(1, 64, 65)\n",
    "        self.conv2 = nn.Conv1d(64, 128, 33)\n",
    "        self.conv3 = nn.Conv1d(128, 256, 17)\n",
    "        #self.conv4 = nn.Conv1d(256, 512, 7)\n",
    "\n",
    "        torch.nn.init.kaiming_normal_(self.conv1.weight)\n",
    "        torch.nn.init.kaiming_normal_(self.conv2.weight)\n",
    "        torch.nn.init.kaiming_normal_(self.conv3.weight)\n",
    "        #torch.nn.init.kaiming_normal_(self.conv4.weight)\n",
    "\n",
    "        self.dropout1 = nn.Dropout(0.1)\n",
    "\n",
    "        self.bn1 = nn.BatchNorm1d(64)\n",
    "        self.bn2 = nn.BatchNorm1d(128)\n",
    "        self.bn3 = nn.BatchNorm1d(256)\n",
    "        #self.bn4 = nn.BatchNorm1d(512)\n",
    "\n",
    "        self.cls = nn.Parameter(torch.zeros(1, 1, 256))\n",
    "\n",
    "        self.positionembedding = PositionalEncoding(256, 1169) #529\n",
    "        #self.positionEmbedding = nn.Parameter(torch.zeros(1, 529, 256))\n",
    "\n",
    "        encoderLayer = nn.TransformerEncoderLayer(d_model = 256, nhead = 4, dropout = 0.2, batch_first = True)\n",
    "        self.encoder = nn.TransformerEncoder(encoderLayer, num_layers = 4)\n",
    "\n",
    "        self.linear = nn.Linear(256, 2)\n",
    "\n",
    "    def forward(self, x):\n",
    "        x = self.conv1(x)\n",
    "        x = self.relu(x)\n",
    "        x = self.bn1(x)\n",
    "        x = self.conv2(x)\n",
    "        x = self.relu(x)\n",
    "        x = self.bn2(x)\n",
    "        x = self.conv3(x)\n",
    "        #x = self.dropout1(x)\n",
    "        x = self.relu(x)\n",
    "        x = self.bn3(x)\n",
    "        #x = self.conv4(x)\n",
    "        #x = self.relu(x)\n",
    "        #x = self.bn4(x)\n",
    "\n",
    "        # x 原始形状：(batch_size, feature_dim, seq_len)\n",
    "        # 交换第2维（feature_dim）和第3维（seq_len）\n",
    "        # Transformer的输入格式要求 (batch_size, seq_len, feature_dim)，即时间步在第2维，而特征维度在第3维。\n",
    "        # Conv1d 输出的默认格式是 (batch_size, feature_dim, seq_len)，因此需要转置。\n",
    "        x = torch.transpose(x, 2, 1)\n",
    "\n",
    "        \n",
    "        clsToken = self.cls.repeat_interleave(x.shape[0], dim = 0)\n",
    "        x = torch.cat((clsToken, x), dim = 1)\n",
    "        x = self.positionembedding(x)\n",
    "        x = self.encoder(x)\n",
    "        x = self.linear(x[:, 0, :])\n",
    "        return x"
   ]
  },
  {
   "cell_type": "markdown",
   "metadata": {},
   "source": [
    "## CNNモデル"
   ]
  },
  {
   "cell_type": "code",
   "execution_count": 7,
   "metadata": {
    "executionInfo": {
     "elapsed": 521,
     "status": "ok",
     "timestamp": 1726029591757,
     "user": {
      "displayName": "佐藤茉帆",
      "userId": "02533179973160754332"
     },
     "user_tz": -540
    },
    "id": "89iMXMda0Cqf"
   },
   "outputs": [],
   "source": [
    "class CNN(nn.Module):\n",
    "    def __init__(self):\n",
    "        super(CNN, self).__init__()\n",
    "        self.pool = nn.MaxPool1d(2)\n",
    "        self.relu = nn.ReLU()\n",
    "\n",
    "        self.dropout = nn.Dropout(0.5)\n",
    "\n",
    "        self.conv1 = nn.Conv1d(1, 64, 17)\n",
    "        self.conv2 = nn.Conv1d(64, 128, 17)\n",
    "        self.conv3 = nn.Conv1d(128, 256, 17)\n",
    "\n",
    "        self.bn1 = nn.BatchNorm1d(64)\n",
    "        self.bn2 = nn.BatchNorm1d(128)\n",
    "        self.bn3 = nn.BatchNorm1d(256)\n",
    "\n",
    "        self.fc1 = nn.Linear(151552, 256)\n",
    "        self.fc2 = nn.Linear(256, 64)\n",
    "        self.fc3 = nn.Linear(64, 2)\n",
    "\n",
    "    def forward(self, x):\n",
    "        x = self.bn1(self.conv1(x))\n",
    "        x = self.conv1(x)\n",
    "        x = self.relu(x)\n",
    "        #x = self.pool(x)\n",
    "        #x = self.bn2(self.conv2(x))\n",
    "        x = self.conv2(x)\n",
    "        x = self.relu(x)\n",
    "        #x = self.pool(x)\n",
    "        #x = self.bn3(self.conv3(x))\n",
    "        x = self.conv3(x)\n",
    "        x = self.relu(x)\n",
    "        #x = self.pool(x)\n",
    "        x = x.view(x.size(0), -1)\n",
    "        x = self.relu(self.fc1(x))\n",
    "        x = self.dropout(x)\n",
    "        x = self.relu(self.fc2(x))\n",
    "        x = self.dropout(x)\n",
    "        x = self.fc3(x)\n",
    "        return x"
   ]
  },
  {
   "cell_type": "code",
   "execution_count": 187,
   "metadata": {
    "executionInfo": {
     "elapsed": 514,
     "status": "ok",
     "timestamp": 1726025592175,
     "user": {
      "displayName": "佐藤茉帆",
      "userId": "02533179973160754332"
     },
     "user_tz": -540
    },
    "id": "fhXIbAUF0Cqf"
   },
   "outputs": [],
   "source": [
    "class MyDataset(torch.utils.data.Dataset):\n",
    "    def __init__(self, data, label, transform = None):\n",
    "        self.transform = transform\n",
    "        self.data = data\n",
    "        self.data_num = len(data)\n",
    "        self.label = label\n",
    "\n",
    "    def __len__(self):\n",
    "        return self.data_num\n",
    "\n",
    "    def __getitem__(self, idx):\n",
    "        if self.transform:\n",
    "            out_data = self.transform(self.data)[0][idx]\n",
    "            out_label = self.label[idx]\n",
    "        else:\n",
    "            out_data = self.data[idx]\n",
    "            out_label = self.label[idx]\n",
    "        #out_data = out_data.unsqueeze(0)  # 形状を (1, channels, seq_len) に変更\n",
    "        return out_data, out_label"
   ]
  },
  {
   "cell_type": "markdown",
   "metadata": {},
   "source": [
    "## データ"
   ]
  },
  {
   "cell_type": "code",
   "execution_count": 218,
   "metadata": {},
   "outputs": [
    {
     "name": "stdout",
     "output_type": "stream",
     "text": [
      "(45211, 1280)\n",
      "torch.Size([1280])\n",
      "()\n"
     ]
    }
   ],
   "source": [
    "x, y = read_pickle(\"10sproceedsubjectsP40\")\n",
    "print(x.shape)\n",
    "transform = transforms.Compose([transforms.ToTensor()])\n",
    "dataset = MyDataset(x, y, transform) #dataset[?][0]生体データ、dataset[?][1]ラベル\n",
    "r = 0.8\n",
    "Iter = iter(dataset)\n",
    "xdata, ydata = next(Iter) #教師データ、ラベルデータ\n",
    "\n",
    "print(xdata.shape)  # ここで確認\n",
    "print(ydata.shape)  # ラベルの形状も確認\n",
    "#print(dataset[0][0])\n",
    "train_size = int(len(dataset) * r)\n",
    "test_size = len(dataset) - train_size\n",
    "train_dataset, test_dataset = torch.utils.data.random_split(dataset, [train_size, test_size])\n",
    "train_dataloader = torch.utils.data.DataLoader(train_dataset, batch_size = 4, shuffle = True, drop_last = True)\n",
    "test_dataloader = torch.utils.data.DataLoader(test_dataset, batch_size = 4, shuffle = True, drop_last = True)"
   ]
  },
  {
   "attachments": {},
   "cell_type": "markdown",
   "metadata": {},
   "source": [
    "## google colabのときのみ"
   ]
  },
  {
   "cell_type": "code",
   "execution_count": 20,
   "metadata": {
    "colab": {
     "base_uri": "https://localhost:8080/"
    },
    "executionInfo": {
     "elapsed": 3371,
     "status": "ok",
     "timestamp": 1726027255875,
     "user": {
      "displayName": "佐藤茉帆",
      "userId": "02533179973160754332"
     },
     "user_tz": -540
    },
    "id": "bs4Qaq5616qt",
    "outputId": "566b5af2-1416-47b9-fa96-1f01a696f32a"
   },
   "outputs": [
    {
     "name": "stdout",
     "output_type": "stream",
     "text": [
      "Drive already mounted at /content/drive; to attempt to forcibly remount, call drive.mount(\"/content/drive\", force_remount=True).\n"
     ]
    }
   ],
   "source": [
    "from google.colab import drive\n",
    "drive.mount('/content/drive')"
   ]
  },
  {
   "cell_type": "code",
   "execution_count": 63,
   "metadata": {},
   "outputs": [],
   "source": [
    "from torch.optim.lr_scheduler import StepLR"
   ]
  },
  {
   "cell_type": "code",
   "execution_count": 27,
   "metadata": {},
   "outputs": [],
   "source": [
    "from torch.optim.lr_scheduler import ReduceLROnPlateau"
   ]
  },
  {
   "cell_type": "code",
   "execution_count": 29,
   "metadata": {},
   "outputs": [
    {
     "name": "stdout",
     "output_type": "stream",
     "text": [
      "c:\\Users\\Ma-Lab-PC3\\AppData\\Local\\Programs\\Python\\Python39\\python.exe\n"
     ]
    }
   ],
   "source": [
    "import sys\n",
    "print(sys.executable)"
   ]
  },
  {
   "cell_type": "code",
   "execution_count": 28,
   "metadata": {},
   "outputs": [
    {
     "name": "stderr",
     "output_type": "stream",
     "text": [
      "c:\\Users\\Ma-Lab-PC3\\SatoMaho\\myenv\\lib\\site-packages\\ignite\\handlers\\checkpoint.py:16: DeprecationWarning: `TorchScript` support for functional optimizers is deprecated and will be removed in a future PyTorch release. Consider using the `torch.compile` optimizer instead.\n",
      "  from torch.distributed.optim import ZeroRedundancyOptimizer\n"
     ]
    }
   ],
   "source": [
    "from ignite.handlers import EarlyStopping"
   ]
  },
  {
   "cell_type": "markdown",
   "metadata": {},
   "source": [
    "## 早期停止"
   ]
  },
  {
   "cell_type": "code",
   "execution_count": 30,
   "metadata": {},
   "outputs": [],
   "source": [
    "class EarlyStopping:\n",
    "    \"\"\"earlystoppingクラス\"\"\"\n",
    "    \n",
    "    def __init__(self, patience, verbose=False, path='BatchNormalization_model.pth'):\n",
    "        \"\"\"引数：最小値の非更新数カウンタ、表示設定、モデル格納path\"\"\"\n",
    "        \n",
    "        self.patience = patience    #設定ストップカウンタ\n",
    "        self.verbose = verbose      #表示の有無\n",
    "        self.counter = 0            #現在のカウンタ値\n",
    "        self.best_score = None      #ベストスコア\n",
    "        self.early_stop = False     #ストップフラグ\n",
    "        self.val_loss_min = np.Inf   #前回のベストスコア記憶用\n",
    "        self.path = path             #ベストモデル格納path\n",
    "        \n",
    "    def __call__(self, val_loss, model):\n",
    "        \"\"\"\n",
    "        特殊(call)メソッド\n",
    "        実際に学習ループ内で最小lossを更新したか否かを計算させる部分\n",
    "        \"\"\"\n",
    "        score = -val_loss\n",
    "\n",
    "        if self.best_score is None:  #1Epoch目の処理\n",
    "            self.best_score = score   #1Epoch目はそのままベストスコアとして記録する\n",
    "            self.checkpoint(val_loss, model)  #記録後にモデルを保存してスコア表示する\n",
    "        elif score < self.best_score:  # ベストスコアを更新できなかった場合\n",
    "            self.counter += 1   #ストップカウンタを+1\n",
    "            if self.verbose:  #表示を有効にした場合は経過を表示\n",
    "                print(f'EarlyStopping counter: {self.counter} out of {self.patience}')  #現在のカウンタを表示する \n",
    "            if self.counter >= self.patience:  #設定カウントを上回ったらストップフラグをTrueに変更\n",
    "                self.early_stop = True\n",
    "        else:  #ベストスコアを更新した場合\n",
    "            self.best_score = score  #ベストスコアを上書き\n",
    "            self.checkpoint(val_loss, model)  #モデルを保存してスコア表示\n",
    "            self.counter = 0  #ストップカウンタリセット\n",
    "\n",
    "    def checkpoint(self, val_loss, model):\n",
    "        '''ベストスコア更新時に実行されるチェックポイント関数'''\n",
    "        if self.verbose:  #表示を有効にした場合は、前回のベストスコアからどれだけ更新したか？を表示\n",
    "            print(f'Validation loss decreased ({self.val_loss_min:.6f} --> {val_loss:.6f}).  Saving model ...')\n",
    "        torch.save(model.state_dict(), self.path)  #ベストモデルを指定したpathに保存\n",
    "        self.val_loss_min = val_loss  #その時のlossを記録する\n"
   ]
  },
  {
   "cell_type": "markdown",
   "metadata": {},
   "source": [
    "## 学習"
   ]
  },
  {
   "cell_type": "code",
   "execution_count": 189,
   "metadata": {
    "executionInfo": {
     "elapsed": 5,
     "status": "ok",
     "timestamp": 1726029073804,
     "user": {
      "displayName": "佐藤茉帆",
      "userId": "02533179973160754332"
     },
     "user_tz": -540
    },
    "id": "8cPMWUKO0Cqg"
   },
   "outputs": [],
   "source": [
    "def train(dataloader, epoch, model, criterion, optimizer):\n",
    "  size = len(dataloader.dataset)\n",
    "  for e in range(epoch):\n",
    "      train_loss_sum = 0\n",
    "      train_acc_sum = 0\n",
    "      val_loss_sum = 0\n",
    "      val_acc_sum = 0\n",
    "      model.train()\n",
    "      for batch, (x, y) in enumerate(dataloader):\n",
    "        x = x.unsqueeze(1)\n",
    "        x, y = x.to(device, dtype = torch.float32), y.to(device, dtype = torch.long)\n",
    "\n",
    "        optimizer.zero_grad()\n",
    "        pred = model(x)\n",
    "        #print(pred)\n",
    "        loss = loss_fn(pred, y)\n",
    "        loss.backward()\n",
    "        optimizer.step()\n",
    "        train_loss_sum += loss.item()\n",
    "        pred = pred.argmax(1)\n",
    "        train_acc_sum += pred.eq(y.view_as(pred)).sum().item()\n",
    "\n",
    "      model.eval()\n",
    "      with torch.no_grad():\n",
    "        for x, y in test_dataloader:\n",
    "          x = x.unsqueeze(1)\n",
    "          x, y = x.to(device, dtype = torch.float32), y.to(device, dtype = torch.long)\n",
    "          pred = model(x)\n",
    "          val_loss_sum += loss_fn(pred, y).item()\n",
    "          pred = pred.argmax(1)\n",
    "          val_acc_sum += pred.eq(y.view_as(pred)).sum().item()\n",
    "\n",
    "      train_loss = train_loss_sum / len(dataloader)\n",
    "      train_acc = train_acc_sum / train_size\n",
    "      val_loss = val_loss_sum / len(dataloader)\n",
    "      val_acc = val_acc_sum / test_size\n",
    "      scheduler.step(val_loss)\n",
    "      early_stopping(val_loss, model)\n",
    "      if early_stopping.early_stop:\n",
    "        print(\"Early Stop!\")\n",
    "        break\n",
    "      train_loss_list.append(train_loss)\n",
    "      train_acc_list.append(train_acc)\n",
    "      val_loss_list.append(val_loss)\n",
    "      val_acc_list.append(val_acc)\n",
    "      print(f\"{e + 1} / {epoch} | Train Loss : {train_loss}, Acc : {100 * train_acc}, Val Loss : {val_loss}, Acc : {100 * val_acc}\")"
   ]
  },
  {
   "cell_type": "markdown",
   "metadata": {},
   "source": [
    "## テスト"
   ]
  },
  {
   "cell_type": "code",
   "execution_count": 190,
   "metadata": {
    "executionInfo": {
     "elapsed": 460,
     "status": "ok",
     "timestamp": 1726029098595,
     "user": {
      "displayName": "佐藤茉帆",
      "userId": "02533179973160754332"
     },
     "user_tz": -540
    },
    "id": "Eh4NRhyj0Cqg"
   },
   "outputs": [],
   "source": [
    "def test(dataloader, model, loss_fn):\n",
    "    model.eval()\n",
    "    correct = 0\n",
    "    test_loss = 0\n",
    "    with torch.no_grad():\n",
    "        for x, y in dataloader:\n",
    "            x = x.unsqueeze(1)\n",
    "            x, y = x.to(device, dtype = torch.float32), y.to(device, dtype = torch.long)\n",
    "            pred = model(x)\n",
    "            test_loss += loss_fn(pred, y).item()\n",
    "            pred = pred.argmax(1)\n",
    "            correct += pred.eq(y.view_as(pred)).sum().item()\n",
    "    print(f\"Loss : {test_loss / len(dataloader)}, Accuracy : {100 * correct / test_size}%\")"
   ]
  },
  {
   "cell_type": "code",
   "execution_count": 101,
   "metadata": {},
   "outputs": [],
   "source": [
    "import os\n",
    "os.environ[\"CUDA_LAUNCH_BLOCKING\"] = \"1\"\n"
   ]
  },
  {
   "cell_type": "markdown",
   "metadata": {},
   "source": [
    "## 実行"
   ]
  },
  {
   "cell_type": "code",
   "execution_count": null,
   "metadata": {},
   "outputs": [],
   "source": [
    "device = torch.device(\"cuda\") if torch.cuda.is_available() else torch.device(\"cpu\")\n",
    "net = Transformer()\n",
    "net = net.to(device)\n",
    "loss_fn = nn.CrossEntropyLoss()\n",
    "optimizer = optim.Adam(net.parameters(), lr = 0.0001, weight_decay = 0.00001)\n",
    "#scheduler = StepLR(optimizer, step_size = 45, gamma = 0.65)\n",
    "scheduler = ReduceLROnPlateau(optimizer, mode = \"min\", factor = 0.5, patience = 10)\n",
    "early_stopping = EarlyStopping(patience = 30)"
   ]
  },
  {
   "cell_type": "code",
   "execution_count": 220,
   "metadata": {
    "colab": {
     "base_uri": "https://localhost:8080/"
    },
    "executionInfo": {
     "elapsed": 339944,
     "status": "ok",
     "timestamp": 1726029941831,
     "user": {
      "displayName": "佐藤茉帆",
      "userId": "02533179973160754332"
     },
     "user_tz": -540
    },
    "id": "0sQWIn2f0Cqg",
    "outputId": "23fee3a2-4e79-4e47-f6ca-d85d45cc21bc"
   },
   "outputs": [
    {
     "name": "stdout",
     "output_type": "stream",
     "text": [
      "1 / 500 | Train Loss : 0.641484314134541, Acc : 64.19210351692104, Val Loss : 0.15918121528761284, Acc : 69.76667035275904\n",
      "2 / 500 | Train Loss : 0.6076630951168855, Acc : 68.18734793187348, Val Loss : 0.16698871841013524, Acc : 61.35132146411589\n",
      "3 / 500 | Train Loss : 0.5896257456388754, Acc : 69.61125857111259, Val Loss : 0.14784680174330356, Acc : 67.09056728961627\n",
      "4 / 500 | Train Loss : 0.564584745416775, Acc : 71.36695421366954, Val Loss : 0.14716734518922225, Acc : 71.32588742673892\n",
      "5 / 500 | Train Loss : 0.5441428104918586, Acc : 72.94016810440168, Val Loss : 0.15475721174908327, Acc : 67.88676324228685\n",
      "6 / 500 | Train Loss : 0.5575756888043113, Acc : 72.24618447246185, Val Loss : 0.13277547149528604, Acc : 73.61495079066681\n",
      "7 / 500 | Train Loss : 0.5350708372044705, Acc : 73.44061048440611, Val Loss : 0.12329505435880163, Acc : 75.92613070883556\n",
      "8 / 500 | Train Loss : 0.5224157827651902, Acc : 74.07376686573767, Val Loss : 0.1305226512390068, Acc : 74.62125400862546\n",
      "9 / 500 | Train Loss : 0.5086499238703989, Acc : 74.25348374253484, Val Loss : 0.1235272284711282, Acc : 75.6275572265841\n",
      "10 / 500 | Train Loss : 0.5052420747944509, Acc : 74.62674187126743, Val Loss : 0.15127507365685475, Acc : 73.44907663386044\n",
      "11 / 500 | Train Loss : 0.5061130242610095, Acc : 74.27836761778369, Val Loss : 0.12062877724177887, Acc : 76.04777175716023\n",
      "12 / 500 | Train Loss : 0.49212924551422277, Acc : 75.07188675071886, Val Loss : 0.12104781026614336, Acc : 75.81554793763132\n",
      "13 / 500 | Train Loss : 0.48613105213588476, Acc : 75.81563813315638, Val Loss : 0.11520844551754608, Acc : 76.49010284197722\n",
      "14 / 500 | Train Loss : 0.4850608875115584, Acc : 75.57232913072329, Val Loss : 0.11817506053360347, Acc : 76.75550149286741\n",
      "15 / 500 | Train Loss : 0.4945399608899561, Acc : 75.4700287547003, Val Loss : 0.11854359600517889, Acc : 76.03671348003981\n",
      "16 / 500 | Train Loss : 0.4704394538017425, Acc : 76.1861313868613, Val Loss : 0.16583065225194182, Acc : 62.224925356629434\n",
      "17 / 500 | Train Loss : 0.4649110980245069, Acc : 76.63127626631277, Val Loss : 0.11552932908658818, Acc : 76.77761804710826\n",
      "18 / 500 | Train Loss : 0.46052864484148653, Acc : 76.86352576863526, Val Loss : 0.11607722807606591, Acc : 76.41269490213425\n",
      "19 / 500 | Train Loss : 0.4577827017846604, Acc : 77.03494802034947, Val Loss : 0.1199438349998193, Acc : 76.85502598695123\n",
      "20 / 500 | Train Loss : 0.4491162499700984, Acc : 77.314200398142, Val Loss : 0.11495208092155608, Acc : 76.45692801061594\n",
      "21 / 500 | Train Loss : 0.4509646114945787, Acc : 77.26996239769962, Val Loss : 0.11813526420867525, Acc : 75.59438239522282\n",
      "22 / 500 | Train Loss : 0.4505207119099639, Acc : 77.28102189781022, Val Loss : 0.11144997454532647, Acc : 77.09830808360057\n",
      "23 / 500 | Train Loss : 0.4453900638403109, Acc : 77.5464499004645, Val Loss : 0.1788127535937226, Acc : 65.31018467322791\n",
      "24 / 500 | Train Loss : 0.443092257350731, Acc : 77.53262552532625, Val Loss : 0.11003152843485645, Acc : 77.0651332522393\n",
      "25 / 500 | Train Loss : 0.4362220485736215, Acc : 77.98053527980535, Val Loss : 0.10585776082206776, Acc : 78.81234103726639\n",
      "26 / 500 | Train Loss : 0.4310811998980156, Acc : 78.58604291086043, Val Loss : 0.11101638991771946, Acc : 78.58011721773748\n",
      "27 / 500 | Train Loss : 0.4286813755599307, Acc : 78.88741428887414, Val Loss : 0.16094297201992122, Acc : 67.31173283202477\n",
      "28 / 500 | Train Loss : 0.43269618979212926, Acc : 78.5611590356116, Val Loss : 0.12682901020249357, Acc : 74.99723543071988\n",
      "29 / 500 | Train Loss : 0.42131488816477886, Acc : 79.40997566909975, Val Loss : 0.10902471230157791, Acc : 78.96715691695235\n",
      "30 / 500 | Train Loss : 0.41907452783648075, Acc : 79.59522229595223, Val Loss : 0.10894762527172261, Acc : 80.63695676213646\n",
      "31 / 500 | Train Loss : 0.41452404298871925, Acc : 79.69752267197524, Val Loss : 0.13511313488956206, Acc : 72.23266615061374\n",
      "32 / 500 | Train Loss : 0.408756913696872, Acc : 79.97677504976775, Val Loss : 0.09835261271007234, Acc : 80.60378193077518\n",
      "33 / 500 | Train Loss : 0.4145129494408376, Acc : 79.65881442158815, Val Loss : 0.09749449306110806, Acc : 80.48214088245051\n",
      "34 / 500 | Train Loss : 0.40677075282827324, Acc : 80.02377792523778, Val Loss : 0.10762160319790245, Acc : 78.65752515758044\n",
      "35 / 500 | Train Loss : 0.4044589669106807, Acc : 80.20349480203495, Val Loss : 0.09349459105329265, Acc : 81.88654207674443\n",
      "36 / 500 | Train Loss : 0.4025861331947363, Acc : 80.40809555408096, Val Loss : 0.12978966121686042, Acc : 74.63231228574588\n",
      "37 / 500 | Train Loss : 0.3976566421574462, Acc : 80.73711568237115, Val Loss : 0.10173378922517226, Acc : 80.38261638836669\n",
      "38 / 500 | Train Loss : 0.38837044234992185, Acc : 81.34538818845388, Val Loss : 0.09629023525094942, Acc : 82.28464005307973\n",
      "39 / 500 | Train Loss : 0.3845184892054987, Acc : 81.48916168989162, Val Loss : 0.1759913218885601, Acc : 50.01658741568063\n",
      "40 / 500 | Train Loss : 0.3788618228601533, Acc : 81.48639681486397, Val Loss : 0.16479590414201123, Acc : 62.20280880238859\n",
      "41 / 500 | Train Loss : 0.38307665540578534, Acc : 81.35644768856449, Val Loss : 0.10294563380408693, Acc : 80.60378193077518\n",
      "42 / 500 | Train Loss : 0.38245965855199104, Acc : 81.77117894271178, Val Loss : 0.10068192750723731, Acc : 80.5595488222935\n",
      "43 / 500 | Train Loss : 0.36789779962420605, Acc : 82.21079407210794, Val Loss : 0.09609410798644381, Acc : 81.99712484794868\n",
      "44 / 500 | Train Loss : 0.36367236564828215, Acc : 82.60893607608935, Val Loss : 0.09348768616233256, Acc : 82.79332080061927\n",
      "45 / 500 | Train Loss : 0.3581800336171468, Acc : 82.76929882769298, Val Loss : 0.08941675904810509, Acc : 83.37940948800177\n",
      "46 / 500 | Train Loss : 0.36223864206096185, Acc : 82.61999557619995, Val Loss : 0.09445533868132641, Acc : 81.57691031737255\n",
      "47 / 500 | Train Loss : 0.3584255811973892, Acc : 82.80524220305242, Val Loss : 0.08743279105844239, Acc : 83.04766117438903\n",
      "48 / 500 | Train Loss : 0.35656974267695185, Acc : 83.10108383101084, Val Loss : 0.09063077718641989, Acc : 83.64480813889196\n",
      "49 / 500 | Train Loss : 0.35271328434040294, Acc : 83.0706702057067, Val Loss : 0.0872884987845176, Acc : 84.28618821187659\n",
      "50 / 500 | Train Loss : 0.3481368151404675, Acc : 83.44669320946693, Val Loss : 0.1514487714679519, Acc : 67.15691695233883\n",
      "51 / 500 | Train Loss : 0.34890074177021585, Acc : 83.38586595885866, Val Loss : 0.09162063644986762, Acc : 82.5832135353312\n",
      "52 / 500 | Train Loss : 0.34696714994049294, Acc : 83.48263658482637, Val Loss : 0.08389182232006778, Acc : 83.65586641601239\n",
      "53 / 500 | Train Loss : 0.34332747913914446, Acc : 83.5075204600752, Val Loss : 0.0899616026228692, Acc : 84.21983854915405\n",
      "54 / 500 | Train Loss : 0.3451155246381638, Acc : 83.45498783454988, Val Loss : 0.08487671239400983, Acc : 83.74433263297578\n",
      "55 / 500 | Train Loss : 0.344337771878183, Acc : 83.44945808449458, Val Loss : 0.08773073673936999, Acc : 83.82174057281875\n",
      "56 / 500 | Train Loss : 0.3387981103432552, Acc : 83.69276708692766, Val Loss : 0.08795123587011651, Acc : 82.93707840318478\n",
      "57 / 500 | Train Loss : 0.338568410212858, Acc : 83.90013271400133, Val Loss : 0.08409422516305988, Acc : 83.32411810239965\n",
      "58 / 500 | Train Loss : 0.3436152131499707, Acc : 83.49093120990932, Val Loss : 0.08276744344349819, Acc : 84.45206236868296\n",
      "59 / 500 | Train Loss : 0.3339990087251881, Acc : 83.93331121433312, Val Loss : 0.07914335363749828, Acc : 84.70640274245272\n",
      "60 / 500 | Train Loss : 0.33180686904480433, Acc : 84.11855784118558, Val Loss : 0.08274430201581093, Acc : 84.39677098308084\n",
      "61 / 500 | Train Loss : 0.338603237312604, Acc : 83.68447246184473, Val Loss : 0.0857078140974619, Acc : 83.86597368130046\n",
      "62 / 500 | Train Loss : 0.3420786291910461, Acc : 83.31121433311213, Val Loss : 0.08134886075576868, Acc : 84.30830476611743\n",
      "63 / 500 | Train Loss : 0.335469322632114, Acc : 83.91948683919487, Val Loss : 0.08598793350616334, Acc : 82.9039035718235\n",
      "64 / 500 | Train Loss : 0.32731404368790834, Acc : 84.28168546781686, Val Loss : 0.109906834962754, Acc : 78.79022448302554\n",
      "65 / 500 | Train Loss : 0.32818320159439673, Acc : 84.32315859323158, Val Loss : 0.07776833239834151, Acc : 85.83434700873603\n",
      "66 / 500 | Train Loss : 0.3203846176353482, Acc : 84.85401459854015, Val Loss : 0.07781669093951576, Acc : 85.19296693575141\n",
      "67 / 500 | Train Loss : 0.31912233670291, Acc : 84.90931209909313, Val Loss : 0.09523840092899533, Acc : 83.70009952449409\n",
      "68 / 500 | Train Loss : 0.3174485355871106, Acc : 84.93972572439725, Val Loss : 0.08075694706111947, Acc : 84.75063585093442\n",
      "69 / 500 | Train Loss : 0.3172679299697843, Acc : 84.93143109931431, Val Loss : 0.11256808317790158, Acc : 79.01139002543404\n",
      "70 / 500 | Train Loss : 0.313606954077329, Acc : 85.0669099756691, Val Loss : 0.08132077751358974, Acc : 84.5184120314055\n",
      "71 / 500 | Train Loss : 0.3132208433096916, Acc : 85.10561822605618, Val Loss : 0.07921899876620661, Acc : 85.08238416454716\n",
      "72 / 500 | Train Loss : 0.31140314079198733, Acc : 85.30192435301925, Val Loss : 0.11415484462735638, Acc : 76.87714254119207\n",
      "73 / 500 | Train Loss : 0.30855023526176834, Acc : 85.3102189781022, Val Loss : 0.07841983029445279, Acc : 85.30354970695566\n",
      "74 / 500 | Train Loss : 0.3075130108312376, Acc : 85.39316522893165, Val Loss : 0.0790974165022062, Acc : 84.75063585093442\n",
      "75 / 500 | Train Loss : 0.30609389772311446, Acc : 85.62817960628179, Val Loss : 0.07693732695803925, Acc : 86.1329204909875\n",
      "76 / 500 | Train Loss : 0.3055760936862654, Acc : 85.7028312320283, Val Loss : 0.07766942130032735, Acc : 85.6352980205684\n",
      "77 / 500 | Train Loss : 0.3081311992953999, Acc : 85.54246848042469, Val Loss : 0.07660772786883596, Acc : 85.44730730952118\n",
      "78 / 500 | Train Loss : 0.3099735497269882, Acc : 85.25768635257687, Val Loss : 0.09916500940581109, Acc : 82.317814884441\n",
      "79 / 500 | Train Loss : 0.3074417305407213, Acc : 85.40145985401459, Val Loss : 0.08276699351815825, Acc : 84.27512993475617\n",
      "80 / 500 | Train Loss : 0.30128934873366553, Acc : 85.7028312320283, Val Loss : 0.07555587285397472, Acc : 86.14397876810793\n",
      "81 / 500 | Train Loss : 0.29800193319479806, Acc : 85.93784560937846, Val Loss : 0.08062646075641006, Acc : 85.67953112905009\n",
      "82 / 500 | Train Loss : 0.30108327166915144, Acc : 85.7083609820836, Val Loss : 0.15766770914905606, Acc : 66.59294481919716\n",
      "83 / 500 | Train Loss : 0.2969186968625159, Acc : 85.98761335987614, Val Loss : 0.15284400658335498, Acc : 70.1094769434922\n",
      "84 / 500 | Train Loss : 0.29824645288699925, Acc : 86.10650298606502, Val Loss : 0.07414888748481374, Acc : 87.10604887758487\n",
      "85 / 500 | Train Loss : 0.2895372482872867, Acc : 86.1728599867286, Val Loss : 0.0714592062061723, Acc : 86.59736813004534\n",
      "86 / 500 | Train Loss : 0.29016074338671705, Acc : 86.1783897367839, Val Loss : 0.09491514897350585, Acc : 82.91496184894393\n",
      "87 / 500 | Train Loss : 0.28876934878551835, Acc : 86.24198186241982, Val Loss : 0.0801929510889822, Acc : 85.46942386376203\n",
      "88 / 500 | Train Loss : 0.2880925295883012, Acc : 86.47423136474231, Val Loss : 0.07558126960015935, Acc : 85.25931659847396\n",
      "89 / 500 | Train Loss : 0.2928629552463096, Acc : 86.21156823711569, Val Loss : 0.08104153407269518, Acc : 85.75693906889306\n",
      "90 / 500 | Train Loss : 0.28735368124264216, Acc : 86.46593673965937, Val Loss : 0.08315320081765541, Acc : 84.08713922370895\n",
      "91 / 500 | Train Loss : 0.28825865132699213, Acc : 86.10097323600974, Val Loss : 0.08236073486996213, Acc : 84.31936304323786\n",
      "92 / 500 | Train Loss : 0.2845825805463188, Acc : 86.55717761557177, Val Loss : 0.08052973589078252, Acc : 85.2372000442331\n"
     ]
    },
    {
     "ename": "RuntimeError",
     "evalue": "CUDA error: unknown error\nCUDA kernel errors might be asynchronously reported at some other API call, so the stacktrace below might be incorrect.\nFor debugging consider passing CUDA_LAUNCH_BLOCKING=1\nCompile with `TORCH_USE_CUDA_DSA` to enable device-side assertions.\n",
     "output_type": "error",
     "traceback": [
      "\u001b[1;31m---------------------------------------------------------------------------\u001b[0m",
      "\u001b[1;31mRuntimeError\u001b[0m                              Traceback (most recent call last)",
      "Cell \u001b[1;32mIn[220], line 6\u001b[0m\n\u001b[0;32m      4\u001b[0m val_loss_list \u001b[38;5;241m=\u001b[39m []\n\u001b[0;32m      5\u001b[0m val_acc_list \u001b[38;5;241m=\u001b[39m []\n\u001b[1;32m----> 6\u001b[0m \u001b[43mtrain\u001b[49m\u001b[43m(\u001b[49m\u001b[43mtrain_dataloader\u001b[49m\u001b[43m,\u001b[49m\u001b[43m \u001b[49m\u001b[43mepochs\u001b[49m\u001b[43m,\u001b[49m\u001b[43m \u001b[49m\u001b[43mnet\u001b[49m\u001b[43m,\u001b[49m\u001b[43m \u001b[49m\u001b[43mloss_fn\u001b[49m\u001b[43m,\u001b[49m\u001b[43m \u001b[49m\u001b[43moptimizer\u001b[49m\u001b[43m)\u001b[49m\n\u001b[0;32m      7\u001b[0m net\u001b[38;5;241m.\u001b[39mload_state_dict(torch\u001b[38;5;241m.\u001b[39mload(\u001b[38;5;124m\"\u001b[39m\u001b[38;5;124mBatchNormalization_model.pth\u001b[39m\u001b[38;5;124m\"\u001b[39m))\n\u001b[0;32m      8\u001b[0m test(test_dataloader, net, loss_fn)\n",
      "Cell \u001b[1;32mIn[189], line 19\u001b[0m, in \u001b[0;36mtrain\u001b[1;34m(dataloader, epoch, model, criterion, optimizer)\u001b[0m\n\u001b[0;32m     17\u001b[0m loss\u001b[38;5;241m.\u001b[39mbackward()\n\u001b[0;32m     18\u001b[0m optimizer\u001b[38;5;241m.\u001b[39mstep()\n\u001b[1;32m---> 19\u001b[0m train_loss_sum \u001b[38;5;241m+\u001b[39m\u001b[38;5;241m=\u001b[39m \u001b[43mloss\u001b[49m\u001b[38;5;241;43m.\u001b[39;49m\u001b[43mitem\u001b[49m\u001b[43m(\u001b[49m\u001b[43m)\u001b[49m\n\u001b[0;32m     20\u001b[0m pred \u001b[38;5;241m=\u001b[39m pred\u001b[38;5;241m.\u001b[39margmax(\u001b[38;5;241m1\u001b[39m)\n\u001b[0;32m     21\u001b[0m train_acc_sum \u001b[38;5;241m+\u001b[39m\u001b[38;5;241m=\u001b[39m pred\u001b[38;5;241m.\u001b[39meq(y\u001b[38;5;241m.\u001b[39mview_as(pred))\u001b[38;5;241m.\u001b[39msum()\u001b[38;5;241m.\u001b[39mitem()\n",
      "\u001b[1;31mRuntimeError\u001b[0m: CUDA error: unknown error\nCUDA kernel errors might be asynchronously reported at some other API call, so the stacktrace below might be incorrect.\nFor debugging consider passing CUDA_LAUNCH_BLOCKING=1\nCompile with `TORCH_USE_CUDA_DSA` to enable device-side assertions.\n"
     ]
    }
   ],
   "source": [
    "epochs = 500\n",
    "train_loss_list = []\n",
    "train_acc_list = []\n",
    "val_loss_list = []\n",
    "val_acc_list = []\n",
    "train(train_dataloader, epochs, net, loss_fn, optimizer)\n",
    "net.load_state_dict(torch.load(\"BatchNormalization_model.pth\"))\n",
    "test(test_dataloader, net, loss_fn)\n",
    "print(\"Done!\")"
   ]
  },
  {
   "cell_type": "markdown",
   "metadata": {},
   "source": [
    "net.load_state_dict(torch.load(\"BatchNormalization_model.pth\"))\n",
    "test(test_dataloader, net, loss_fn)\n",
    "print(\"Done!\")"
   ]
  },
  {
   "cell_type": "markdown",
   "metadata": {},
   "source": [
    "## 損失グラフ"
   ]
  },
  {
   "cell_type": "code",
   "execution_count": 221,
   "metadata": {
    "colab": {
     "base_uri": "https://localhost:8080/",
     "height": 472
    },
    "executionInfo": {
     "elapsed": 1102,
     "status": "ok",
     "timestamp": 1726029966312,
     "user": {
      "displayName": "佐藤茉帆",
      "userId": "02533179973160754332"
     },
     "user_tz": -540
    },
    "id": "NbG5XbmUTAe7",
    "outputId": "39f9333c-bcdb-4efa-d557-1fae94b075b7"
   },
   "outputs": [
    {
     "data": {
      "image/png": "[encoded data removed]",
      "text/plain": [
       "<Figure size 640x480 with 1 Axes>"
      ]
     },
     "metadata": {},
     "output_type": "display_data"
    }
   ],
   "source": [
    "import matplotlib.pyplot as plt\n",
    "plt.plot(train_loss_list, label='Train Loss')\n",
    "plt.plot(val_loss_list, label='Validation Loss')\n",
    "plt.title('Training and Validation Loss')\n",
    "plt.xlabel('Epoch')\n",
    "plt.ylabel('Loss')\n",
    "plt.legend()\n",
    "plt.show()"
   ]
  },
  {
   "cell_type": "markdown",
   "metadata": {},
   "source": [
    "## 精度グラフ"
   ]
  },
  {
   "cell_type": "code",
   "execution_count": 222,
   "metadata": {},
   "outputs": [
    {
     "data": {
      "image/png": "[encoded data removed]",
      "text/plain": [
       "<Figure size 640x480 with 1 Axes>"
      ]
     },
     "metadata": {},
     "output_type": "display_data"
    }
   ],
   "source": [
    "plt.plot(train_acc_list, label='Train acc')\n",
    "plt.plot(val_acc_list, label='Validation acc')\n",
    "plt.title('Training and Validation Acc')\n",
    "plt.xlabel('Epoch')\n",
    "plt.ylabel('Acc')\n",
    "plt.legend()\n",
    "plt.show()"
   ]
  }
 ],
 "metadata": {
  "accelerator": "GPU",
  "colab": {
   "gpuType": "T4",
   "provenance": []
  },
  "kernelspec": {
   "display_name": "myenv",
   "language": "python",
   "name": "python3"
  },
  "language_info": {
   "codemirror_mode": {
    "name": "ipython",
    "version": 3
   },
   "file_extension": ".py",
   "mimetype": "text/x-python",
   "name": "python",
   "nbconvert_exporter": "python",
   "pygments_lexer": "ipython3",
   "version": "3.9.7"
  },
  "orig_nbformat": 2
 },
 "nbformat": 4,
 "nbformat_minor": 0
}
